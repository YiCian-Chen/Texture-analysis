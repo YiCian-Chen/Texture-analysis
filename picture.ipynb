{
 "cells": [
  {
   "cell_type": "code",
   "execution_count": 1,
   "metadata": {},
   "outputs": [],
   "source": [
    "import cv2\n",
    "import time\n",
    "import numpy as np\n",
    "import matplotlib.pyplot as plt\n",
    "from skimage.feature import greycomatrix, greycoprops\n",
    "import diffimg\n",
    "import scipy.special as special"
   ]
  },
  {
   "cell_type": "code",
   "execution_count": 2,
   "metadata": {},
   "outputs": [],
   "source": [
    "def beta_correction( f, a = 2.0, b = 2.0 ):\n",
    "    x = np.linspace( 0, 1, 256 )\n",
    "    y = special.betainc( a, b, x ) * 255\n",
    "    g = f.copy()\n",
    "    nr, nc = f.shape[:2]\n",
    "    for i in range(nr):\n",
    "        for j in range(nc):\n",
    "            g[i,j] = np.uint8(y[f[i,j]])\n",
    "    return g"
   ]
  },
  {
   "cell_type": "code",
   "execution_count": 3,
   "metadata": {},
   "outputs": [
    {
     "name": "stdout",
     "output_type": "stream",
     "text": [
      "image is circle\n",
      "correlation_mean = 0.5128967621269721\n",
      " correlation_std = 0.14127448287128086\n",
      "threshold =  0.822\n"
     ]
    },
    {
     "data": {
      "image/png": "[encoded data removed]",
      "text/plain": [
       "<Figure size 432x288 with 1 Axes>"
      ]
     },
     "metadata": {
      "needs_background": "light"
     },
     "output_type": "display_data"
    },
    {
     "name": "stdout",
     "output_type": "stream",
     "text": [
      "time: 41.093644 seconds\n"
     ]
    }
   ],
   "source": [
    "#輸入輸出影像檔名設定\n",
    "input_fileName = 'image2.png'\n",
    "output_fileName = 'detection2.png'\n",
    "\n",
    "start = time.time()\n",
    "\n",
    "#讀取圖片\n",
    "image = cv2.imread(input_fileName)\n",
    "image = cv2.cvtColor(image, cv2.COLOR_BGR2GRAY)\n",
    "\n",
    "#beta處理\n",
    "image = beta_correction(image, a = 2.0, b = 2.0 )\n",
    "\n",
    "size_filter = 25\n",
    "offset = 5\n",
    "\n",
    "nr,nc = image.shape[:2]\n",
    "x_filter = int((nr)/offset)\n",
    "y_filter = int((nc)/offset)\n",
    "\n",
    "end_r = nr - size_filter + offset\n",
    "end_c = nc - size_filter + offset\n",
    "\n",
    "co_contrast = np.zeros((x_filter ,y_filter))\n",
    "co_correlation = np.zeros((x_filter ,y_filter))\n",
    "co_dissimilarity = np.zeros((x_filter,y_filter))\n",
    "\n",
    "for i in range(0, end_r, offset):\n",
    "    for j in range(0, end_c, offset):\n",
    "        f = image[ i : i + size_filter , j : j + size_filter ]\n",
    "        result = greycomatrix( f, [1],[0] )\n",
    "        co_contrast[int(i/offset),int(j/offset)] = float(greycoprops(result, 'contrast'))\n",
    "        co_correlation[int(i/offset),int(j/offset)] = float(greycoprops(result, 'correlation'))\n",
    "        co_dissimilarity[int(i/offset),int(j/offset)] = float(greycoprops(result,'dissimilarity'))\n",
    "\n",
    "#contrast\n",
    "contrast_mean = round(np.mean(co_contrast))\n",
    "contrast_std = round(np.std(co_contrast))\n",
    "contrast_max = round(np.max(co_contrast))\n",
    "#dissimilarity\n",
    "dissimilarity_mean = round(np.mean(co_dissimilarity))\n",
    "dissimilarity_std = round(np.std(co_dissimilarity))\n",
    "#correlation\n",
    "correlation_mean = np.mean(co_correlation)\n",
    "correlation_std = np.std(co_correlation)\n",
    "\n",
    "#門檻值設定\n",
    "contrast_mean_threshold = 125        #circle大於 125.033578 \n",
    "contrast_std_threshold = 39         #circle大於 38.544783 \n",
    "contrast_max_threshold = 246         #circle大於 246.250000 \n",
    "dissimilarity_mean_threshold = 8.46   #circle大於 8.459510 \n",
    "dissimilarity_std_threshold = 2.3    #circle大於 2.244871 \n",
    "circle_count = 0\n",
    "is_circle = True\n",
    "\n",
    "#過關，判斷線性or圓形\n",
    "if contrast_mean > contrast_mean_threshold:circle_count+=1\n",
    "if contrast_std > contrast_std_threshold:circle_count+=1\n",
    "if contrast_max > contrast_max_threshold:circle_count+=1\n",
    "if dissimilarity_mean > dissimilarity_mean_threshold:circle_count+=1\n",
    "if dissimilarity_std > dissimilarity_std_threshold:circle_count+=1\n",
    "if circle_count >= 3:\n",
    "    print('image is circle')\n",
    "else:\n",
    "    print('image is linear')\n",
    "    is_circle = False\n",
    "print(f'correlation_mean = {correlation_mean}\\n correlation_std = {correlation_std}')\n",
    "\n",
    "#建立空白的偵測影像\n",
    "detection = np.full((nr, nc), 255,dtype='uint8')\n",
    "\n",
    "#決定影像的門檻值\n",
    "if is_circle:\n",
    "    threshold = 0.822\n",
    "    size = 15\n",
    "else:\n",
    "    size = 10\n",
    "    if correlation_std > 0.15:\n",
    "        threshold = correlation_mean + (correlation_std*0.75)\n",
    "    else:\n",
    "        threshold = correlation_mean + correlation_std\n",
    "print('threshold = ',threshold) \n",
    "\n",
    "#將瑕疵點標記出來\n",
    "for i in range(x_filter):\n",
    "    for j in range(y_filter):\n",
    "        if co_correlation[i,j] > threshold:\n",
    "            for m in range(j*offset,j*offset+size):\n",
    "                for n in range(i*offset,i*offset+size):\n",
    "                    try:\n",
    "                        detection[n][m] = 0\n",
    "                    except:\n",
    "                        pass\n",
    "\n",
    "plt.imshow(detection,cmap='gray')\n",
    "plt.show()\n",
    "cv2.imwrite(output_fileName, detection)\n",
    "    \n",
    "end = time.time()\n",
    "print(\"time: %f seconds\" % (end-start))"
   ]
  },
  {
   "cell_type": "code",
   "execution_count": 4,
   "metadata": {},
   "outputs": [
    {
     "name": "stdout",
     "output_type": "stream",
     "text": [
      "0.0085601806640625\n"
     ]
    }
   ],
   "source": [
    "im1=\"image2_groundtruth.png\"\n",
    "im2=\"detection2.png\"\n",
    "print(diffimg.diff(im1,im2))"
   ]
  }
 ],
 "metadata": {
  "kernelspec": {
   "display_name": "Python 3",
   "language": "python",
   "name": "python3"
  },
  "language_info": {
   "codemirror_mode": {
    "name": "ipython",
    "version": 3
   },
   "file_extension": ".py",
   "mimetype": "text/x-python",
   "name": "python",
   "nbconvert_exporter": "python",
   "pygments_lexer": "ipython3",
   "version": "3.8.5"
  }
 },
 "nbformat": 4,
 "nbformat_minor": 5
}
